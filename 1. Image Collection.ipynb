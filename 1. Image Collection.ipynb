{
 "cells": [
  {
   "cell_type": "markdown",
   "metadata": {},
   "source": [
    "# 1. Import Dependencies"
   ]
  },
  {
   "cell_type": "code",
   "execution_count": 1,
   "metadata": {},
   "outputs": [
    {
     "name": "stdout",
     "output_type": "stream",
     "text": [
      "Requirement already satisfied: opencv-python in d:\\anaconda\\anaconda\\lib\\site-packages (4.6.0.66)\n",
      "Requirement already satisfied: numpy>=1.19.3 in d:\\anaconda\\anaconda\\lib\\site-packages (from opencv-python) (1.21.5)\n"
     ]
    }
   ],
   "source": [
    "!pip install opencv-python"
   ]
  },
  {
   "cell_type": "code",
   "execution_count": 2,
   "metadata": {},
   "outputs": [],
   "source": [
    "# Import opencv\n",
    "import cv2 \n",
    "\n",
    "# Import uuid\n",
    "import uuid\n",
    "\n",
    "# Import Operating System\n",
    "import os\n",
    "\n",
    "# Import time\n",
    "import time"
   ]
  },
  {
   "cell_type": "markdown",
   "metadata": {},
   "source": [
    "# 2. Define Images to Collect"
   ]
  },
  {
   "cell_type": "code",
   "execution_count": 3,
   "metadata": {},
   "outputs": [],
   "source": [
    "labels = ['thumbsup', 'thumbsdown', 'thankyou', 'livelong']\n",
    "number_imgs = 5"
   ]
  },
  {
   "cell_type": "code",
   "execution_count": 4,
   "metadata": {},
   "outputs": [
    {
     "data": {
      "text/plain": [
       "5"
      ]
     },
     "execution_count": 4,
     "metadata": {},
     "output_type": "execute_result"
    }
   ],
   "source": [
    "number_imgs"
   ]
  },
  {
   "cell_type": "markdown",
   "metadata": {},
   "source": [
    "# 3. Setup Folders "
   ]
  },
  {
   "cell_type": "code",
   "execution_count": 5,
   "metadata": {},
   "outputs": [],
   "source": [
    "IMAGES_PATH = os.path.join('Tensorflow', 'workspace', 'images', 'collectedimages')"
   ]
  },
  {
   "cell_type": "code",
   "execution_count": 6,
   "metadata": {},
   "outputs": [
    {
     "data": {
      "text/plain": [
       "'Tensorflow\\\\workspace\\\\images\\\\collectedimages'"
      ]
     },
     "execution_count": 6,
     "metadata": {},
     "output_type": "execute_result"
    }
   ],
   "source": [
    "IMAGES_PATH"
   ]
  },
  {
   "cell_type": "code",
   "execution_count": 7,
   "metadata": {},
   "outputs": [
    {
     "data": {
      "text/plain": [
       "'nt'"
      ]
     },
     "execution_count": 7,
     "metadata": {},
     "output_type": "execute_result"
    }
   ],
   "source": [
    "os.name"
   ]
  },
  {
   "cell_type": "code",
   "execution_count": 8,
   "metadata": {},
   "outputs": [],
   "source": [
    "if not os.path.exists(IMAGES_PATH):\n",
    "    if os.name == 'posix':\n",
    "        !mkdir -p {IMAGES_PATH}\n",
    "    if os.name == 'nt':\n",
    "         !mkdir {IMAGES_PATH}\n",
    "for label in labels:\n",
    "    path = os.path.join(IMAGES_PATH, label)\n",
    "    if not os.path.exists(path):\n",
    "        !mkdir {path}"
   ]
  },
  {
   "cell_type": "markdown",
   "metadata": {},
   "source": [
    "# 4. Capture Images"
   ]
  },
  {
   "cell_type": "code",
   "execution_count": 9,
   "metadata": {},
   "outputs": [
    {
     "data": {
      "text/plain": [
       "'Tensorflow\\\\workspace\\\\images\\\\collectedimages'"
      ]
     },
     "execution_count": 9,
     "metadata": {},
     "output_type": "execute_result"
    }
   ],
   "source": [
    "IMAGES_PATH"
   ]
  },
  {
   "cell_type": "code",
   "execution_count": 10,
   "metadata": {},
   "outputs": [
    {
     "data": {
      "text/plain": [
       "['thumbsup', 'thumbsdown', 'thankyou', 'livelong']"
      ]
     },
     "execution_count": 10,
     "metadata": {},
     "output_type": "execute_result"
    }
   ],
   "source": [
    "labels"
   ]
  },
  {
   "cell_type": "code",
   "execution_count": 11,
   "metadata": {},
   "outputs": [
    {
     "name": "stdout",
     "output_type": "stream",
     "text": [
      "Collecting images for thumbsup\n",
      "Collecting image 0\n",
      "Collecting image 1\n",
      "Collecting image 2\n",
      "Collecting image 3\n",
      "Collecting image 4\n",
      "Collecting images for thumbsdown\n",
      "Collecting image 0\n",
      "Collecting image 1\n",
      "Collecting image 2\n",
      "Collecting image 3\n",
      "Collecting image 4\n",
      "Collecting images for thankyou\n",
      "Collecting image 0\n",
      "Collecting image 1\n",
      "Collecting image 2\n",
      "Collecting image 3\n",
      "Collecting image 4\n",
      "Collecting images for livelong\n",
      "Collecting image 0\n",
      "Collecting image 1\n",
      "Collecting image 2\n",
      "Collecting image 3\n",
      "Collecting image 4\n"
     ]
    }
   ],
   "source": [
    "for label in labels:\n",
    "    cap = cv2.VideoCapture(0) # Connects to our webcam or capture device\n",
    "    print('Collecting images for {}'.format(label)) # prints label collecting images for\n",
    "    time.sleep(5) # sleep for 5 seconds to give up time to pose for image collection\n",
    "    for imgnum in range(number_imgs): #collect number_imgs amount of images\n",
    "        print('Collecting image {}'.format(imgnum))\n",
    "        ret, frame = cap.read()\n",
    "        # create new image and place it in folder path, naming it based on respective label and uuid\n",
    "        imgname = os.path.join(IMAGES_PATH,label,label+'.'+'{}.jpg'.format(str(uuid.uuid1())))\n",
    "        cv2.imwrite(imgname, frame) # image file write\n",
    "        cv2.imshow('frame', frame) # image file read / display\n",
    "        time.sleep(2)\n",
    "\n",
    "        if cv2.waitKey(1) & 0xFF == ord('q'): # Setting up escape key\n",
    "            break\n",
    "cap.release()\n",
    "cv2.destroyAllWindows()"
   ]
  },
  {
   "cell_type": "markdown",
   "metadata": {},
   "source": [
    "# 5. Image Labelling"
   ]
  },
  {
   "cell_type": "code",
   "execution_count": 11,
   "metadata": {},
   "outputs": [
    {
     "name": "stdout",
     "output_type": "stream",
     "text": [
      "Requirement already satisfied: pyqt5 in d:\\anaconda\\anaconda\\lib\\site-packages (5.15.7)\n",
      "Requirement already satisfied: lxml in d:\\anaconda\\anaconda\\lib\\site-packages (4.9.1)\n",
      "Requirement already satisfied: PyQt5-Qt5>=5.15.0 in d:\\anaconda\\anaconda\\lib\\site-packages (from pyqt5) (5.15.2)\n",
      "Requirement already satisfied: PyQt5-sip<13,>=12.11 in d:\\anaconda\\anaconda\\lib\\site-packages (from pyqt5) (12.11.0)\n"
     ]
    }
   ],
   "source": [
    "!pip install --upgrade pyqt5 lxml"
   ]
  },
  {
   "cell_type": "code",
   "execution_count": 12,
   "metadata": {},
   "outputs": [],
   "source": [
    "LABELIMG_PATH = os.path.join('Tensorflow', 'labelimg')"
   ]
  },
  {
   "cell_type": "code",
   "execution_count": 15,
   "metadata": {},
   "outputs": [],
   "source": [
    "if not os.path.exists(LABELIMG_PATH):\n",
    "    !mkdir {LABELIMG_PATH}\n",
    "    !git clone https://github.com/tzutalin/labelImg {LABELIMG_PATH}"
   ]
  },
  {
   "cell_type": "code",
   "execution_count": 16,
   "metadata": {},
   "outputs": [
    {
     "data": {
      "text/plain": [
       "'Tensorflow\\\\labelimg'"
      ]
     },
     "execution_count": 16,
     "metadata": {},
     "output_type": "execute_result"
    }
   ],
   "source": [
    "LABELIMG_PATH"
   ]
  },
  {
   "cell_type": "code",
   "execution_count": 14,
   "metadata": {},
   "outputs": [],
   "source": [
    "if os.name == 'posix':\n",
    "    !cd {LABELIMG_PATH} && !make qt5py3\n",
    "if os.name =='nt':\n",
    "    !cd {LABELIMG_PATH} && pyrcc5 -o libs/resources.py resources.qrc"
   ]
  },
  {
   "cell_type": "code",
   "execution_count": 17,
   "metadata": {},
   "outputs": [
    {
     "name": "stdout",
     "output_type": "stream",
     "text": [
      "Cancel creation.\n",
      "Cancel creation.\n",
      "Cancel creation.\n",
      "Cancel creation.\n",
      "Cancel creation.\n",
      "Cancel creation.\n",
      "Cancel creation.\n",
      "Cancel creation.\n",
      "Image:C:\\Users\\tjhar\\Documents\\UCMERCED\\FALL2022\\CSE168\\Labs\\Lab3\\TFODCourse\\Tensorflow\\workspace\\images\\collectedimages\\livelong\\livelong.fa15a5a9-69e1-11ed-a61d-1c99578b8661.jpg -> Annotation:C:/Users/tjhar/Documents/UCMERCED/FALL2022/CSE168/Labs/Lab3/TFODCourse/Tensorflow/workspace/images/collectedimages/livelong\\livelong.fa15a5a9-69e1-11ed-a61d-1c99578b8661.xml\n",
      "Cancel creation.\n",
      "Cancel creation.\n",
      "Image:C:\\Users\\tjhar\\Documents\\UCMERCED\\FALL2022\\CSE168\\Labs\\Lab3\\TFODCourse\\Tensorflow\\workspace\\images\\collectedimages\\livelong\\livelong.fb4b03b4-69e1-11ed-9e3e-1c99578b8661.jpg -> Annotation:C:/Users/tjhar/Documents/UCMERCED/FALL2022/CSE168/Labs/Lab3/TFODCourse/Tensorflow/workspace/images/collectedimages/livelong\\livelong.fb4b03b4-69e1-11ed-9e3e-1c99578b8661.xml\n",
      "Image:C:\\Users\\tjhar\\Documents\\UCMERCED\\FALL2022\\CSE168\\Labs\\Lab3\\TFODCourse\\Tensorflow\\workspace\\images\\collectedimages\\livelong\\livelong.fb4b03b4-69e1-11ed-9e3e-1c99578b8661.jpg -> Annotation:C:/Users/tjhar/Documents/UCMERCED/FALL2022/CSE168/Labs/Lab3/TFODCourse/Tensorflow/workspace/images/collectedimages/livelong\\livelong.fb4b03b4-69e1-11ed-9e3e-1c99578b8661.xml\n",
      "Image:C:\\Users\\tjhar\\Documents\\UCMERCED\\FALL2022\\CSE168\\Labs\\Lab3\\TFODCourse\\Tensorflow\\workspace\\images\\collectedimages\\livelong\\livelong.fc7dfbda-69e1-11ed-b57e-1c99578b8661.jpg -> Annotation:C:/Users/tjhar/Documents/UCMERCED/FALL2022/CSE168/Labs/Lab3/TFODCourse/Tensorflow/workspace/images/collectedimages/livelong\\livelong.fc7dfbda-69e1-11ed-b57e-1c99578b8661.xml\n",
      "Image:C:\\Users\\tjhar\\Documents\\UCMERCED\\FALL2022\\CSE168\\Labs\\Lab3\\TFODCourse\\Tensorflow\\workspace\\images\\collectedimages\\livelong\\livelong.fc7dfbda-69e1-11ed-b57e-1c99578b8661.jpg -> Annotation:C:/Users/tjhar/Documents/UCMERCED/FALL2022/CSE168/Labs/Lab3/TFODCourse/Tensorflow/workspace/images/collectedimages/livelong\\livelong.fc7dfbda-69e1-11ed-b57e-1c99578b8661.xml\n",
      "Image:C:\\Users\\tjhar\\Documents\\UCMERCED\\FALL2022\\CSE168\\Labs\\Lab3\\TFODCourse\\Tensorflow\\workspace\\images\\collectedimages\\livelong\\livelong.fdb0f238-69e1-11ed-8a38-1c99578b8661.jpg -> Annotation:C:/Users/tjhar/Documents/UCMERCED/FALL2022/CSE168/Labs/Lab3/TFODCourse/Tensorflow/workspace/images/collectedimages/livelong\\livelong.fdb0f238-69e1-11ed-8a38-1c99578b8661.xml\n",
      "Image:C:\\Users\\tjhar\\Documents\\UCMERCED\\FALL2022\\CSE168\\Labs\\Lab3\\TFODCourse\\Tensorflow\\workspace\\images\\collectedimages\\livelong\\livelong.fee5546e-69e1-11ed-8757-1c99578b8661.jpg -> Annotation:C:/Users/tjhar/Documents/UCMERCED/FALL2022/CSE168/Labs/Lab3/TFODCourse/Tensorflow/workspace/images/collectedimages/livelong\\livelong.fee5546e-69e1-11ed-8757-1c99578b8661.xml\n",
      "Image:C:\\Users\\tjhar\\Documents\\UCMERCED\\FALL2022\\CSE168\\Labs\\Lab3\\TFODCourse\\Tensorflow\\workspace\\images\\collectedimages\\livelong\\livelong.fee5546e-69e1-11ed-8757-1c99578b8661.jpg -> Annotation:C:/Users/tjhar/Documents/UCMERCED/FALL2022/CSE168/Labs/Lab3/TFODCourse/Tensorflow/workspace/images/collectedimages/livelong\\livelong.fee5546e-69e1-11ed-8757-1c99578b8661.xml\n",
      "Image:C:\\Users\\tjhar\\Documents\\UCMERCED\\FALL2022\\CSE168\\Labs\\Lab3\\TFODCourse\\Tensorflow\\workspace\\images\\collectedimages\\thankyou\\thankyou.ef169d0d-69e1-11ed-b44b-1c99578b8661.jpg -> Annotation:C:/Users/tjhar/Documents/UCMERCED/FALL2022/CSE168/Labs/Lab3/TFODCourse/Tensorflow/workspace/images/collectedimages/thankyou\\thankyou.ef169d0d-69e1-11ed-b44b-1c99578b8661.xml\n",
      "Image:C:\\Users\\tjhar\\Documents\\UCMERCED\\FALL2022\\CSE168\\Labs\\Lab3\\TFODCourse\\Tensorflow\\workspace\\images\\collectedimages\\thankyou\\thankyou.ef169d0d-69e1-11ed-b44b-1c99578b8661.jpg -> Annotation:C:/Users/tjhar/Documents/UCMERCED/FALL2022/CSE168/Labs/Lab3/TFODCourse/Tensorflow/workspace/images/collectedimages/thankyou\\thankyou.ef169d0d-69e1-11ed-b44b-1c99578b8661.xml\n",
      "Image:C:\\Users\\tjhar\\Documents\\UCMERCED\\FALL2022\\CSE168\\Labs\\Lab3\\TFODCourse\\Tensorflow\\workspace\\images\\collectedimages\\thankyou\\thankyou.f2b159ba-69e1-11ed-a5cf-1c99578b8661.jpg -> Annotation:C:/Users/tjhar/Documents/UCMERCED/FALL2022/CSE168/Labs/Lab3/TFODCourse/Tensorflow/workspace/images/collectedimages/thankyou\\thankyou.f2b159ba-69e1-11ed-a5cf-1c99578b8661.xml\n",
      "Image:C:\\Users\\tjhar\\Documents\\UCMERCED\\FALL2022\\CSE168\\Labs\\Lab3\\TFODCourse\\Tensorflow\\workspace\\images\\collectedimages\\thankyou\\thankyou.f3e5ee13-69e1-11ed-bd48-1c99578b8661.jpg -> Annotation:C:/Users/tjhar/Documents/UCMERCED/FALL2022/CSE168/Labs/Lab3/TFODCourse/Tensorflow/workspace/images/collectedimages/thankyou\\thankyou.f3e5ee13-69e1-11ed-bd48-1c99578b8661.xml\n",
      "Image:C:\\Users\\tjhar\\Documents\\UCMERCED\\FALL2022\\CSE168\\Labs\\Lab3\\TFODCourse\\Tensorflow\\workspace\\images\\collectedimages\\thankyou\\thankyou.f04b2fcf-69e1-11ed-898a-1c99578b8661.jpg -> Annotation:C:/Users/tjhar/Documents/UCMERCED/FALL2022/CSE168/Labs/Lab3/TFODCourse/Tensorflow/workspace/images/collectedimages/thankyou\\thankyou.f04b2fcf-69e1-11ed-898a-1c99578b8661.xml\n",
      "Image:C:\\Users\\tjhar\\Documents\\UCMERCED\\FALL2022\\CSE168\\Labs\\Lab3\\TFODCourse\\Tensorflow\\workspace\\images\\collectedimages\\thankyou\\thankyou.f17dbebb-69e1-11ed-98a3-1c99578b8661.jpg -> Annotation:C:/Users/tjhar/Documents/UCMERCED/FALL2022/CSE168/Labs/Lab3/TFODCourse/Tensorflow/workspace/images/collectedimages/thankyou\\thankyou.f17dbebb-69e1-11ed-98a3-1c99578b8661.xml\n",
      "Image:C:\\Users\\tjhar\\Documents\\UCMERCED\\FALL2022\\CSE168\\Labs\\Lab3\\TFODCourse\\Tensorflow\\workspace\\images\\collectedimages\\thumbsdown\\thumbsdown.e7ae8466-69e1-11ed-8cec-1c99578b8661.jpg -> Annotation:C:/Users/tjhar/Documents/UCMERCED/FALL2022/CSE168/Labs/Lab3/TFODCourse/Tensorflow/workspace/images/collectedimages/thumbsdown\\thumbsdown.e7ae8466-69e1-11ed-8cec-1c99578b8661.xml\n",
      "Image:C:\\Users\\tjhar\\Documents\\UCMERCED\\FALL2022\\CSE168\\Labs\\Lab3\\TFODCourse\\Tensorflow\\workspace\\images\\collectedimages\\thumbsdown\\thumbsdown.e7ae8466-69e1-11ed-8cec-1c99578b8661.jpg -> Annotation:C:/Users/tjhar/Documents/UCMERCED/FALL2022/CSE168/Labs/Lab3/TFODCourse/Tensorflow/workspace/images/collectedimages/thumbsdown\\thumbsdown.e7ae8466-69e1-11ed-8cec-1c99578b8661.xml\n",
      "Image:C:\\Users\\tjhar\\Documents\\UCMERCED\\FALL2022\\CSE168\\Labs\\Lab3\\TFODCourse\\Tensorflow\\workspace\\images\\collectedimages\\thumbsdown\\thumbsdown.e8e2f163-69e1-11ed-910e-1c99578b8661.jpg -> Annotation:C:/Users/tjhar/Documents/UCMERCED/FALL2022/CSE168/Labs/Lab3/TFODCourse/Tensorflow/workspace/images/collectedimages/thumbsdown\\thumbsdown.e8e2f163-69e1-11ed-910e-1c99578b8661.xml\n",
      "Image:C:\\Users\\tjhar\\Documents\\UCMERCED\\FALL2022\\CSE168\\Labs\\Lab3\\TFODCourse\\Tensorflow\\workspace\\images\\collectedimages\\thumbsdown\\thumbsdown.e8e2f163-69e1-11ed-910e-1c99578b8661.jpg -> Annotation:C:/Users/tjhar/Documents/UCMERCED/FALL2022/CSE168/Labs/Lab3/TFODCourse/Tensorflow/workspace/images/collectedimages/thumbsdown\\thumbsdown.e8e2f163-69e1-11ed-910e-1c99578b8661.xml\n",
      "Image:C:\\Users\\tjhar\\Documents\\UCMERCED\\FALL2022\\CSE168\\Labs\\Lab3\\TFODCourse\\Tensorflow\\workspace\\images\\collectedimages\\thumbsdown\\thumbsdown.e67a5607-69e1-11ed-bc8a-1c99578b8661.jpg -> Annotation:C:/Users/tjhar/Documents/UCMERCED/FALL2022/CSE168/Labs/Lab3/TFODCourse/Tensorflow/workspace/images/collectedimages/thumbsdown\\thumbsdown.e67a5607-69e1-11ed-bc8a-1c99578b8661.xml\n",
      "Image:C:\\Users\\tjhar\\Documents\\UCMERCED\\FALL2022\\CSE168\\Labs\\Lab3\\TFODCourse\\Tensorflow\\workspace\\images\\collectedimages\\thumbsdown\\thumbsdown.e410bdbd-69e1-11ed-9569-1c99578b8661.jpg -> Annotation:C:/Users/tjhar/Documents/UCMERCED/FALL2022/CSE168/Labs/Lab3/TFODCourse/Tensorflow/workspace/images/collectedimages/thumbsdown\\thumbsdown.e410bdbd-69e1-11ed-9569-1c99578b8661.xml\n",
      "Image:C:\\Users\\tjhar\\Documents\\UCMERCED\\FALL2022\\CSE168\\Labs\\Lab3\\TFODCourse\\Tensorflow\\workspace\\images\\collectedimages\\thumbsdown\\thumbsdown.e54732d1-69e1-11ed-a423-1c99578b8661.jpg -> Annotation:C:/Users/tjhar/Documents/UCMERCED/FALL2022/CSE168/Labs/Lab3/TFODCourse/Tensorflow/workspace/images/collectedimages/thumbsdown\\thumbsdown.e54732d1-69e1-11ed-a423-1c99578b8661.xml\n",
      "Image:C:\\Users\\tjhar\\Documents\\UCMERCED\\FALL2022\\CSE168\\Labs\\Lab3\\TFODCourse\\Tensorflow\\workspace\\images\\collectedimages\\thumbsup\\thumbsup.db6c2767-69e1-11ed-8296-1c99578b8661.jpg -> Annotation:C:/Users/tjhar/Documents/UCMERCED/FALL2022/CSE168/Labs/Lab3/TFODCourse/Tensorflow/workspace/images/collectedimages/thumbsup\\thumbsup.db6c2767-69e1-11ed-8296-1c99578b8661.xml\n",
      "Image:C:\\Users\\tjhar\\Documents\\UCMERCED\\FALL2022\\CSE168\\Labs\\Lab3\\TFODCourse\\Tensorflow\\workspace\\images\\collectedimages\\thumbsup\\thumbsup.db6c2767-69e1-11ed-8296-1c99578b8661.jpg -> Annotation:C:/Users/tjhar/Documents/UCMERCED/FALL2022/CSE168/Labs/Lab3/TFODCourse/Tensorflow/workspace/images/collectedimages/thumbsup\\thumbsup.db6c2767-69e1-11ed-8296-1c99578b8661.xml\n",
      "Image:C:\\Users\\tjhar\\Documents\\UCMERCED\\FALL2022\\CSE168\\Labs\\Lab3\\TFODCourse\\Tensorflow\\workspace\\images\\collectedimages\\thumbsup\\thumbsup.dca03e8f-69e1-11ed-ad68-1c99578b8661.jpg -> Annotation:C:/Users/tjhar/Documents/UCMERCED/FALL2022/CSE168/Labs/Lab3/TFODCourse/Tensorflow/workspace/images/collectedimages/thumbsup\\thumbsup.dca03e8f-69e1-11ed-ad68-1c99578b8661.xml\n",
      "Cancel creation.\n",
      "Image:C:\\Users\\tjhar\\Documents\\UCMERCED\\FALL2022\\CSE168\\Labs\\Lab3\\TFODCourse\\Tensorflow\\workspace\\images\\collectedimages\\thumbsup\\thumbsup.ddd2ff80-69e1-11ed-8850-1c99578b8661.jpg -> Annotation:C:/Users/tjhar/Documents/UCMERCED/FALL2022/CSE168/Labs/Lab3/TFODCourse/Tensorflow/workspace/images/collectedimages/thumbsup\\thumbsup.ddd2ff80-69e1-11ed-8850-1c99578b8661.xml\n",
      "Image:C:\\Users\\tjhar\\Documents\\UCMERCED\\FALL2022\\CSE168\\Labs\\Lab3\\TFODCourse\\Tensorflow\\workspace\\images\\collectedimages\\thumbsup\\thumbsup.da37cb03-69e1-11ed-80a5-1c99578b8661.jpg -> Annotation:C:/Users/tjhar/Documents/UCMERCED/FALL2022/CSE168/Labs/Lab3/TFODCourse/Tensorflow/workspace/images/collectedimages/thumbsup\\thumbsup.da37cb03-69e1-11ed-80a5-1c99578b8661.xml\n",
      "Image:C:\\Users\\tjhar\\Documents\\UCMERCED\\FALL2022\\CSE168\\Labs\\Lab3\\TFODCourse\\Tensorflow\\workspace\\images\\collectedimages\\thumbsup\\thumbsup.d900d0d4-69e1-11ed-878f-1c99578b8661.jpg -> Annotation:C:/Users/tjhar/Documents/UCMERCED/FALL2022/CSE168/Labs/Lab3/TFODCourse/Tensorflow/workspace/images/collectedimages/thumbsup\\thumbsup.d900d0d4-69e1-11ed-878f-1c99578b8661.xml\n",
      "Image:C:\\Users\\tjhar\\Documents\\UCMERCED\\FALL2022\\CSE168\\Labs\\Lab3\\TFODCourse\\Tensorflow\\workspace\\images\\collectedimages\\thumbsup\\thumbsup.d900d0d4-69e1-11ed-878f-1c99578b8661.jpg -> Annotation:C:/Users/tjhar/Documents/UCMERCED/FALL2022/CSE168/Labs/Lab3/TFODCourse/Tensorflow/workspace/images/collectedimages/thumbsup\\thumbsup.d900d0d4-69e1-11ed-878f-1c99578b8661.xml\n"
     ]
    }
   ],
   "source": [
    "!cd {LABELIMG_PATH} && python labelImg.py"
   ]
  },
  {
   "cell_type": "markdown",
   "metadata": {},
   "source": [
    "# 6. Move them into a Training and Testing Partition"
   ]
  },
  {
   "cell_type": "markdown",
   "metadata": {},
   "source": [
    "# OPTIONAL - 7. Compress them for Colab Training"
   ]
  },
  {
   "cell_type": "code",
   "execution_count": null,
   "metadata": {},
   "outputs": [],
   "source": [
    "TRAIN_PATH = os.path.join('Tensorflow', 'workspace', 'images', 'train')\n",
    "TEST_PATH = os.path.join('Tensorflow', 'workspace', 'images', 'test')\n",
    "ARCHIVE_PATH = os.path.join('Tensorflow', 'workspace', 'images', 'archive.tar.gz')"
   ]
  },
  {
   "cell_type": "code",
   "execution_count": null,
   "metadata": {},
   "outputs": [],
   "source": [
    "!tar -czf {ARCHIVE_PATH} {TRAIN_PATH} {TEST_PATH}"
   ]
  },
  {
   "cell_type": "code",
   "execution_count": null,
   "metadata": {},
   "outputs": [],
   "source": []
  },
  {
   "cell_type": "code",
   "execution_count": null,
   "metadata": {},
   "outputs": [],
   "source": []
  },
  {
   "cell_type": "code",
   "execution_count": null,
   "metadata": {},
   "outputs": [],
   "source": []
  },
  {
   "cell_type": "code",
   "execution_count": null,
   "metadata": {},
   "outputs": [],
   "source": []
  }
 ],
 "metadata": {
  "kernelspec": {
   "display_name": "tfodj",
   "language": "python",
   "name": "tfodj"
  },
  "language_info": {
   "codemirror_mode": {
    "name": "ipython",
    "version": 3
   },
   "file_extension": ".py",
   "mimetype": "text/x-python",
   "name": "python",
   "nbconvert_exporter": "python",
   "pygments_lexer": "ipython3",
   "version": "3.9.13"
  }
 },
 "nbformat": 4,
 "nbformat_minor": 2
}
